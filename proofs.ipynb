{
 "cells": [
  {
   "cell_type": "code",
   "execution_count": null,
   "id": "e23181f7",
   "metadata": {},
   "outputs": [
    {
     "name": "stderr",
     "output_type": "stream",
     "text": [
      "252it [00:00, 1255.11it/s]"
     ]
    },
    {
     "name": "stdout",
     "output_type": "stream",
     "text": [
      "-4.605170185988091\n"
     ]
    },
    {
     "name": "stderr",
     "output_type": "stream",
     "text": [
      "3090it [00:02, 1282.00it/s]\n"
     ]
    },
    {
     "name": "stdout",
     "output_type": "stream",
     "text": [
      "                                              smiles    target\n",
      "0  COC(=O)C1=C(C)NC(=O)N(C(=O)NCCC[NH+]2CCN(c3ccc... -4.605170\n",
      "1  COc1cc2[nH+]c(N3CCN(C(=O)c4ccco4)CC3)nc(N)c2cc1OC -4.605170\n",
      "2  COc1cc2[nH+]c(N3CCN(C(=O)c4ccco4)CC3)nc(N)c2cc1OC -4.605170\n",
      "3  COc1cc2[nH+]c(N3CCN(C(=O)c4ccco4)CC3)nc(N)c2cc1OC -3.912023\n",
      "4  COC(=O)C1=C(C)NC(=O)N(C(=O)NCCC[NH+]2CCN(c3ccc... -3.912023\n"
     ]
    }
   ],
   "source": [
    "import pandas as pd\n",
    "from rdkit import Chem\n",
    "from tqdm import tqdm\n",
    "import numpy as np\n",
    "\n",
    "data = Chem.SDMolSupplier(\"data/datasetRaw/ADRA1A.sdf\")\n",
    "df = pd.DataFrame()\n",
    "for i, mol in tqdm(enumerate(data)):\n",
    "    try:\n",
    "        smiles = Chem.MolToSmiles(mol)\n",
    "        target = np.log(float(mol.GetProp(\"target\").replace(\">\", \"\").replace(\"<\", \"\")))\n",
    "        if i == 0:\n",
    "            print(target)\n",
    "    except Exception as e:\n",
    "        smiles = 'invalid'\n",
    "        target = np.nan\n",
    "\n",
    "    df.loc[i, \"smiles\"] = smiles\n",
    "    df.loc[i, \"target\"] = target\n",
    "\n",
    "mask = [True if Chem.MolFromSmiles(m) != None else False for m in df.loc[:, \"smiles\"]]\n",
    "print(df.head(5))\n",
    "df = df[mask].reset_index(drop=True)\n",
    "df[\"dataset\"] = \"ADRA1A\"\n",
    "df = df.reindex(['dataset', 'smiles', 'target'], axis=1)\n"
   ]
  },
  {
   "cell_type": "code",
   "execution_count": null,
   "id": "d363e27f",
   "metadata": {},
   "outputs": [
    {
     "name": "stdout",
     "output_type": "stream",
     "text": [
      "ADRA1A.csv\n",
      "ALOX5AP.csv\n",
      "ATR.csv\n",
      "DPP4.csv\n",
      "HLMC.csv\n",
      "JAK1.csv\n",
      "JAK2.csv\n",
      "KOR.csv\n",
      "LIPO.csv\n",
      "MUSC1.csv\n",
      "MUSC2.csv\n",
      "SOL.csv\n"
     ]
    }
   ],
   "source": [
    "nameDataset = [\n",
    "        \"ADRA1A\",\n",
    "        \"ALOX5AP\",\n",
    "        \"ATR\",\n",
    "        \"DPP4\",\n",
    "        \"HLMC\",\n",
    "        \"JAK1\",\n",
    "        \"JAK2\",\n",
    "        \"KOR\",\n",
    "        \"LIPO\",\n",
    "        \"MUSC1\",\n",
    "        \"MUSC2\",\n",
    "        \"SOL\"]\n",
    "\n",
    "for name in nameDataset:\n",
    "    filename = f\"{name}.csv\"\n",
    "    print(filename)\n",
    "filen"
   ]
  }
 ],
 "metadata": {
  "kernelspec": {
   "display_name": "env",
   "language": "python",
   "name": "python3"
  },
  "language_info": {
   "codemirror_mode": {
    "name": "ipython",
    "version": 3
   },
   "file_extension": ".py",
   "mimetype": "text/x-python",
   "name": "python",
   "nbconvert_exporter": "python",
   "pygments_lexer": "ipython3",
   "version": "3.10.11"
  }
 },
 "nbformat": 4,
 "nbformat_minor": 5
}
